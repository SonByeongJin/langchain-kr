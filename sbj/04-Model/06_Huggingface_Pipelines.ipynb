{
 "cells": [
  {
   "cell_type": "markdown",
   "metadata": {},
   "source": [
    "# ChatOllama\n",
    "\n",
    "Ollama를 사용하면 Llama 2와 같은 오픈 소스 대규모 언어 모델을 로컬에서 실행할 수 있습니다. Ollama는 모델 가중치, 구성 및 데이터를 Modelfile로 정의된 단일 패키지로 번들링합니다. GPU 사용을 포함하여 설정 및 구성 세부 정보를 최적화합니다. 지원되는 모델 및 모델 변형의 전체 목록은 [Ollama model library](https://ollama.com/library)를 참조하세요.\n",
    "\n",
    "## 설치\n",
    "\n",
    "### 프로그램 설치\n",
    "Ollama를 지원되는 플랫폼(Mac / Linux / Windows)에 다운로드하고 설치하세요.\n",
    "\n",
    "- 설치주소: [https://ollama.com/](https://ollama.com/)\n",
    "\n",
    "### 모델 다운로드\n",
    "\n",
    "#### 허깅페이스\n",
    "\n",
    "허깅페이스(HuggingFace) 에서 오픈모델을 다운로드 받습니다 (.gguf 확장자)\n",
    "\n",
    "- GGUF: https://huggingface.co/teddylee777/EEVE-Korean-Instruct-10.8B-v1.0-gguf\n",
    "\n",
    "#### Ollama 제공하는 모델\n",
    "\n",
    "`ollama pull <name-of-model>` 명령을 사용하여 사용 가능한 LLM 모델을 가져오세요.\n",
    "- 예: `ollama pull gemma:7b`\n",
    "\n",
    "아래의 경로에 모델의 기본 태그 버전이 다운로드됩니다.\n",
    "\n",
    "- Mac: `~/.ollama/models`\n",
    "- Linux/WSL: `/usr/share/ollama/.ollama/models`\n",
    "\n",
    "`ollama list`로 가져온 모든 모델을 확인하세요.\n",
    "\n",
    "`ollama run <name-of-model>`로 명령줄에서 모델과 직접 채팅하세요.\n",
    "\n",
    "### Modelfile 로부터 커스텀 모델 생성하기\n",
    "\n",
    "모델을 임포트하기 위해 ModelFile을 먼저 생성해야 합니다. 자세한 정보는 [ModelFile 관련 공식 문서](https://github.com/ollama/ollama/blob/69f392c9b7ea7c5cc3d46c29774e37fdef51abd8/docs/modelfile.md)에서 확인할 수 있습니다.\n",
    "\n",
    "> 샘플 모델파일 예시\n",
    "\n",
    "```\n",
    "FROM ggml-model-Q5_K_M.gguf\n",
    "\n",
    "TEMPLATE \"\"\"{{- if .System }}\n",
    "<s>{{ .System }}</s>\n",
    "{{- end }}\n",
    "<s>Human:\n",
    "{{ .Prompt }}</s>\n",
    "<s>Assistant:\n",
    "\"\"\"\n",
    "\n",
    "SYSTEM \"\"\"A chat between a curious user and an artificial intelligence assistant. The assistant gives helpful, detailed, and polite answers to the user's questions.\"\"\"\n",
    "\n",
    "PARAMETER stop <s>\n",
    "PARAMETER stop </s>\n",
    "```\n",
    "\n",
    "### Chat 모델\n",
    "\n",
    "Llama `chat` 모델(예: `ollama pull llama2:7b-chat`)을 사용하는 경우 `ChatOllama` 인터페이스를 사용할 수 있습니다. 여기에는 시스템 메시지 및 사용자 입력을 위한 special tokens이 포함됩니다.\n",
    "\n",
    "### Ollama 모델 활용\n",
    "\n",
    "- 모든 로컬 모델은 `localhost:11434`에서 제공됩니다.\n",
    "- Command 창에서 직접 상호 작용하려면 `ollama run <name-of-model>`을 실행하세요."
   ]
  },
  {
   "cell_type": "code",
   "execution_count": null,
   "metadata": {},
   "outputs": [],
   "source": [
    "from langchain_teddynote import logging\n",
    "\n",
    "# 프로젝트 이름을 입력합니다.\n",
    "logging.langsmith(\"CH04-Models\")"
   ]
  },
  {
   "cell_type": "code",
   "execution_count": 1,
   "metadata": {},
   "outputs": [
    {
     "name": "stdout",
     "output_type": "stream",
     "text": [
      "## Deep Learning, 쉽게 설명해 드릴게요!\n",
      "\n",
      "Deep Learning은 인공지능(AI)의 한 분야로, **인간의 두뇌처럼 복잡한 데이터에서 자동으로 학습하여 추론하는 알고리즘**을 개발하는 기술입니다. 마치 우리가 경험을 통해 배우듯이, Deep Learning은 많은 데이터를 통해 스스로 패턴을 발견하고, 이를 바탕으로 새로운 데이터를 예측하거나 분류하는 능력을 갖게 됩니다.\n",
      "\n",
      "**핵심 아이디어:**\n",
      "\n",
      "* **깊은 신경망 (Deep Neural Network, DNN):**  여러 개의 층(layer)으로 구성된 신경망을 사용하여 데이터를 분석하고 학습합니다. 각 층은 이전 층의 결과를 받아 다음 층으로 전달하면서, 데이터의 복잡한 특징을 추출하고 학습합니다.\n",
      "* **자동 학습:** 인간이 수동으로 규칙을 만들거나 모델을 설계할 필요 없이, 데이터를 통해 스스로 학습합니다.\n",
      "* **데이터 기반 학습:**  더 많은 데이터를 학습할수록 모델의 정확도는 높아집니다.\n",
      "\n",
      "**Deep Learning의 특징:**\n",
      "\n",
      "* **높은 성능:** 이미지 인식, 음성 인식, 자연어 처리 등 다양한 분야에서 기존 방식보다 훨씬 뛰어난 성능을 보입니다.\n",
      "* **자동화:** 사람이 직접 코딩할 필요 없이, 데이터를 통해 스스로 모델을 개선합니다.\n",
      "* **데이터 의존성:** 많은 데이터를 필요로 합니다.\n",
      "\n",
      "**Deep Learning의 활용 분야:**\n",
      "\n",
      "* **이미지 인식:** 얼굴 인식, 자율 주행, 의료 영상 분석 등\n",
      "* **음성 인식:** 음성 비서, 자동 번역, 음성 검색 등\n",
      "* **자연어 처리:** 챗봇, 기계 번역, 텍스트 요약 등\n",
      "* **추천 시스템:** 유튜브, 넷플릭스 등에서 사용되는 추천 알고리즘\n",
      "* **게임:** AlphaGo와 같은 AI 게임 개발\n",
      "\n",
      "**간단한 예시:**\n",
      "\n",
      "* **이미지 분류:**  만약 먹 사진 이미지를 여러 장 찍어두고, 그 이미지를 Deep Learning 모델에 입력하면, 모델은 먹 사진의 특징을 인식하여 \"닭\" 또는 \"고기\" 와 같은 결과를 예측합니다.\n",
      "* **자연어 번역:**  한국어 문장을 입력하면, Deep Learning 모델은 영어 문장을 번역하여 출력합니다.\n",
      "\n",
      "---\n",
      "\n",
      "**더 자세히 알고 싶으시다면, 다음과 같은 질문을 해주세요:**\n",
      "\n",
      "* Deep Learning의 어떤 부분에 대해 더 알고 싶으신가요? (예: Neural Network, 학습 방법, 활용 분야 등)\n",
      "* 특정 분야에 대한 Deep Learning 적용 사례가 궁금하신가요? (예: 이미지 인식, 자연어 처리, 금융 등)"
     ]
    }
   ],
   "source": [
    "from langchain_ollama import ChatOllama\n",
    "from langchain_core.output_parsers import StrOutputParser\n",
    "from langchain_core.prompts import ChatPromptTemplate\n",
    "from langchain_teddynote.messages import stream_response\n",
    "\n",
    "\n",
    "llm = ChatOllama(model=\"gemma3:1b\")\n",
    "\n",
    "prompt = ChatPromptTemplate.from_template(\"{topic}에 대하여 간략히 설명해 줘.\")\n",
    "\n",
    "chain = prompt | llm | StrOutputParser()\n",
    "\n",
    "answer = chain.stream({\"topic\":\"deep learning\"})\n",
    "\n",
    "stream_response(answer)"
   ]
  },
  {
   "cell_type": "code",
   "execution_count": 2,
   "metadata": {},
   "outputs": [
    {
     "name": "stdout",
     "output_type": "stream",
     "text": [
      "## 구글(Google)에 대한 간략한 설명\n",
      "\n",
      "구글(Google)은 **미국에 본사를 둔 글로벌 검색 엔진, 기술 기업**입니다. 1996년에 설립되어 현재는 세계에서 가장 영향력 있는 기업 중 하나로 자리매김했습니다. \n",
      "\n",
      "**핵심 특징 및 주요 서비스:**\n",
      "\n",
      "* **검색 엔진:** 가장 유명한 서비스 중 하나로, 사용자들이 원하는 정보를 검색할 수 있도록 합니다.\n",
      "* **검색 결과 최적화 (SEO):** 웹사이트의 검색 결과 순위를 높이기 위한 기술을 개발하고 적용합니다.\n",
      "* **검색 광고:** 웹사이트에 광고를 게재하는 플랫폼으로, 구글 검색 결과에 노출됩니다.\n",
      "* **안드로이드:** 스마트폰 운영체제인 안드로이드를 개발하여 전 세계적으로 사용되고 있습니다.\n",
      "* **AI (인공지능):** 검색 엔진 외에도 다양한 AI 기술을 활용하여 새로운 서비스들을 개발하고 있습니다. (예: 번역, 챗봇, 음성 인식 등)\n",
      "* **Google Maps:** 지도 서비스로, 전 세계 지도를 보여주고 길 안내 기능을 제공합니다.\n",
      "* **Gmail:** 이메일 서비스로, 개인적인 이메일 관리에 유용한 기능을 제공합니다.\n",
      "* **YouTube:** 동영상 공유 플랫폼으로, 전 세계 수많은 동영상을 제공합니다.\n",
      "\n",
      "**요약하자면, 구글은 정보 검색을 돕는 강력한 도구이자, 다양한 기술을 통해 우리의 삶을 편리하게 만들어주는 기업이라고 할 수 있습니다.**\n",
      "\n",
      "더 궁금한 점이 있으시면 언제든지 질문해주세요!"
     ]
    }
   ],
   "source": [
    "async for chunks in chain.astream(\n",
    "    {\"topic\": \"구글\"}\n",
    "):  # 비동기적으로 체인을 실행하여 청크 단위로 결과를 반환합니다.\n",
    "    print(chunks, end=\"\", flush=True)  # 각 청크를 출력합니다."
   ]
  },
  {
   "cell_type": "markdown",
   "metadata": {},
   "source": [
    "## 출력형식: JSON\n",
    "\n",
    "Ollama의 최신 버전을 사용하고 [`format`](https://github.com/jmorganca/ollama/blob/main/docs/api.md#json-mode) 플래그를 제공하세요.\n",
    "\n",
    "`format` 플래그는 모델이 JSON 형식으로 응답을 생성하도록 강제합니다."
   ]
  },
  {
   "cell_type": "code",
   "execution_count": 5,
   "metadata": {},
   "outputs": [],
   "source": [
    "from langchain_ollama import ChatOllama\n",
    "\n",
    "llm = ChatOllama(\n",
    "    model=\"gemma3:1b\",  # 사용할 언어 모델을 지정합니다.\n",
    "    format=\"json\",  # 입출력 형식을 JSON으로 설정합니다.\n",
    "    temperature=0,\n",
    ")"
   ]
  },
  {
   "cell_type": "code",
   "execution_count": 6,
   "metadata": {},
   "outputs": [
    {
     "name": "stdout",
     "output_type": "stream",
     "text": [
      "{\"places\": [\n",
      "  {\"name\": \"파리, 프랑스\", \"description\": \"유럽의 상징적인 도시로, 낭만적인 분위기와 예술, 문화, 음식으로 유명합니다. 에펠탑, 루브르 박물관, 샹 드 마르스 등 유명 관광 명소가 있습니다.\", \"type\": \"city\", \"country\": \"프랑스\"},\n",
      "  {\"name\": \"로마, 이탈리아\", \"description\": \"고대 로마의 역사와 건축물을 볼 수 있는 곳입니다. 콜로세움, 포로 로마니움, 바티칸 박물관 등 유적지가 많습니다.\", \"type\": \"city\", \"country\": \"이탈리아\"},\n",
      "  {\"name\": \"바르셀로나, 스페인\", \"description\": \"아랍풍과 르네상스 양식이 혼합된 아름다운 도시입니다. 가우디의 건축물, 람블라스 거리, 사그라다 파일 교회 등이 유명합니다.\", \"type\": \"city\", \"country\": \"스페인\"},\n",
      "  {\"name\": \"아테네, 그리스\", \"description\": \"고대 그리스 문명의 중심지입니다. 아크로폴리스, 신전, 박물관 등 유적지가 있으며, 그리스 문화와 역사를 체험할 수 있습니다.\", \"type\": \"city\", \"country\": \"그리스\"},\n",
      "  {\"name\": \"베를린, 독일\", \"description\": \"역사와 예술, 문화, 그리고 활기찬 도시 분위기를 느낄 수 있는 곳입니다. 브란덴부르크 문, 베를린 대성당, 몽블랑 공원 등이 있습니다.\", \"type\": \"city\", \"country\": \"독일\"},\n",
      "  {\"name\": \"런던, 영국\", \"description\": \"다양한 문화와 역사적 유적지를 갖춘 도시입니다. 런던 타워, 빅토리아 공원, 국회의사당 등이 유명합니다.\", \"type\": \"city\", \"country\": \"영국\"},\n",
      "  {\"name\": \"파즈, 포르투갈\", \"description\": \"아름다운 해변과 역사적인 건축물로 유명한 도시입니다. 파즈 성, 폰 폰체스 궁전, 폰 폰체스 박물관 등이 있습니다.\", \"type\": \"city\", \"country\": \"포르투갈\"},\n",
      "  {\"name\": \"오스만, 터키\", \"description\": \"유럽과 아시아의 문화가 공존하는 도시입니다.  السلط람 려, 르바르트 려, 몽클라바 려 등 유명한 명소가 있습니다.\", \"type\": \"city\", \"country\": \"터키\"},\n",
      "  {\"name\": \"산토리니, 그리스\", \"description\": \"아름다운 해안 절벽과 깎아지른 절벽으로 유명한 섬입니다. 헬리오스 타운, 몬테 벤투 등 아름다운 해변과 풍경을 감상할 수 있습니다.\", \"type\": \"island\", \"country\": \"그리스\"},\n",
      "  {\"name\": \"밀라노, 이탈리아\", \"description\": \"이탈리아의 예술 중심지입니다. 비토리오 페르세티 미술관, 곤돌라, 펜실베인 광장 등이 유명합니다.\", \"type\": \"city\", \"country\": \"이탈리아\"}\n",
      "]\n",
      "}\n",
      "\n"
     ]
    }
   ],
   "source": [
    "# JSON 형식의 답변을 요구하는 프롬프트 작성\n",
    "prompt = \"유럽 여행지 10곳을 알려주세요. key: `places`. resonse in JSON format.\"\n",
    "\n",
    "# 체인 호출\n",
    "response = llm.invoke(prompt)\n",
    "print(response.content)  # 생성된 응답을 출력합니다."
   ]
  },
  {
   "cell_type": "code",
   "execution_count": null,
   "metadata": {},
   "outputs": [],
   "source": []
  }
 ],
 "metadata": {
  "kernelspec": {
   "display_name": "langchain-kr-7DBPT-nE-py3.11",
   "language": "python",
   "name": "python3"
  },
  "language_info": {
   "codemirror_mode": {
    "name": "ipython",
    "version": 3
   },
   "file_extension": ".py",
   "mimetype": "text/x-python",
   "name": "python",
   "nbconvert_exporter": "python",
   "pygments_lexer": "ipython3",
   "version": "3.11.9"
  }
 },
 "nbformat": 4,
 "nbformat_minor": 2
}
